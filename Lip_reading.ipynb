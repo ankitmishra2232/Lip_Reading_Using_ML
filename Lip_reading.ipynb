{
 "cells": [
  {
   "cell_type": "code",
   "execution_count": 1,
   "id": "c1142b9a",
   "metadata": {},
   "outputs": [],
   "source": [
    "#install and import Dependency\n",
    "\n",
    "\n",
    "# !pip install opencv-python matplotlib imageio gdown tensorflow"
   ]
  },
  {
   "cell_type": "code",
   "execution_count": 2,
   "id": "71a8b9f2",
   "metadata": {},
   "outputs": [],
   "source": [
    "import os\n",
    "import cv2\n",
    "import tensorflow as tf\n",
    "import numpy as np\n",
    "from typing import List\n",
    "from matplotlib import pyplot as plt\n",
    "import imageio"
   ]
  },
  {
   "cell_type": "code",
   "execution_count": 3,
   "id": "65efdcf7",
   "metadata": {},
   "outputs": [
    {
     "name": "stdout",
     "output_type": "stream",
     "text": [
      "Num GPUs Available:  0\n"
     ]
    }
   ],
   "source": [
    "import tensorflow as tf\n",
    "print(\"Num GPUs Available: \", len(tf.config.list_physical_devices('GPU')))"
   ]
  },
  {
   "cell_type": "code",
   "execution_count": 4,
   "id": "94bbf4f4",
   "metadata": {},
   "outputs": [
    {
     "data": {
      "text/plain": [
       "[PhysicalDevice(name='/physical_device:CPU:0', device_type='CPU')]"
      ]
     },
     "execution_count": 4,
     "metadata": {},
     "output_type": "execute_result"
    }
   ],
   "source": [
    "tf.config.list_physical_devices(\n",
    "    device_type=None\n",
    ")"
   ]
  },
  {
   "cell_type": "code",
   "execution_count": 5,
   "id": "e504abab",
   "metadata": {},
   "outputs": [],
   "source": [
    "physical_devices = tf.config.list_physical_devices('GPU')\n",
    "try:\n",
    "    tf.config.experiment.set_memory_growth(physical_devices[0],True)\n",
    "except:\n",
    "    \n",
    "    pass"
   ]
  },
  {
   "cell_type": "markdown",
   "id": "e5f3bbc4",
   "metadata": {},
   "source": [
    "## DATA Loading Function"
   ]
  },
  {
   "cell_type": "code",
   "execution_count": 6,
   "id": "8416c920",
   "metadata": {},
   "outputs": [],
   "source": [
    "import gdown"
   ]
  },
  {
   "cell_type": "code",
   "execution_count": 7,
   "id": "23377d75",
   "metadata": {},
   "outputs": [],
   "source": [
    "# url = 'https://drive.google.com/uc?id=1YlvpDLix3S-U8fd-gqRwPcWXAXm8JwjL'\n",
    "# output = 'data.zip'\n",
    "# gdown.download(url, output, quiet=False)\n",
    "# gdown.extractall('data.zip')"
   ]
  },
  {
   "cell_type": "code",
   "execution_count": 8,
   "id": "e9595316",
   "metadata": {},
   "outputs": [],
   "source": [
    "def load_video(path:str) -> List[float]: \n",
    "\n",
    "    cap = cv2.VideoCapture(path)\n",
    "    frames = []\n",
    "    for _ in range(int(cap.get(cv2.CAP_PROP_FRAME_COUNT))): \n",
    "        ret, frame = cap.read()\n",
    "        frame = tf.image.rgb_to_grayscale(frame)\n",
    "        #use mediapipe or dlib to select mouth only but for this dataset this works\n",
    "        frames.append(frame[190:236,80:220,:])\n",
    "    cap.release()\n",
    "    \n",
    "    mean = tf.math.reduce_mean(frames)\n",
    "    std = tf.math.reduce_std(tf.cast(frames, tf.float32))  #Scaliong Data\n",
    "    return tf.cast((frames - mean), tf.float32) / std"
   ]
  },
  {
   "cell_type": "code",
   "execution_count": 9,
   "id": "d0a7508c",
   "metadata": {},
   "outputs": [],
   "source": [
    "vocab = [x for x in \"abcdefghijklmnopqrstuvwxyz'?!123456789 \"]"
   ]
  },
  {
   "cell_type": "code",
   "execution_count": 10,
   "id": "3b2f5b80",
   "metadata": {},
   "outputs": [
    {
     "data": {
      "text/plain": [
       "['a',\n",
       " 'b',\n",
       " 'c',\n",
       " 'd',\n",
       " 'e',\n",
       " 'f',\n",
       " 'g',\n",
       " 'h',\n",
       " 'i',\n",
       " 'j',\n",
       " 'k',\n",
       " 'l',\n",
       " 'm',\n",
       " 'n',\n",
       " 'o',\n",
       " 'p',\n",
       " 'q',\n",
       " 'r',\n",
       " 's',\n",
       " 't',\n",
       " 'u',\n",
       " 'v',\n",
       " 'w',\n",
       " 'x',\n",
       " 'y',\n",
       " 'z',\n",
       " \"'\",\n",
       " '?',\n",
       " '!',\n",
       " '1',\n",
       " '2',\n",
       " '3',\n",
       " '4',\n",
       " '5',\n",
       " '6',\n",
       " '7',\n",
       " '8',\n",
       " '9',\n",
       " ' ']"
      ]
     },
     "execution_count": 10,
     "metadata": {},
     "output_type": "execute_result"
    }
   ],
   "source": [
    "vocab"
   ]
  },
  {
   "cell_type": "code",
   "execution_count": 11,
   "id": "33b3518f",
   "metadata": {},
   "outputs": [
    {
     "name": "stdout",
     "output_type": "stream",
     "text": [
      "The Vocabulary is: ['', 'a', 'b', 'c', 'd', 'e', 'f', 'g', 'h', 'i', 'j', 'k', 'l', 'm', 'n', 'o', 'p', 'q', 'r', 's', 't', 'u', 'v', 'w', 'x', 'y', 'z', \"'\", '?', '!', '1', '2', '3', '4', '5', '6', '7', '8', '9', ' '](size =40)\n"
     ]
    }
   ],
   "source": [
    "char_to_num = tf.keras.layers.StringLookup(vocabulary=vocab,oov_token=\"\")\n",
    "num_to_char = tf.keras.layers.StringLookup(vocabulary=char_to_num.get_vocabulary(),oov_token=\"\",invert=True)\n",
    "\n",
    "print(\n",
    "    f\"The Vocabulary is: {char_to_num.get_vocabulary()}\"\n",
    "    f\"(size ={char_to_num.vocabulary_size()})\"\n",
    ")"
   ]
  },
  {
   "cell_type": "code",
   "execution_count": 14,
   "id": "fbbb5757",
   "metadata": {},
   "outputs": [
    {
     "data": {
      "text/plain": [
       "<tf.Tensor: shape=(5,), dtype=int64, numpy=array([ 1, 14, 11,  9, 20], dtype=int64)>"
      ]
     },
     "execution_count": 14,
     "metadata": {},
     "output_type": "execute_result"
    }
   ],
   "source": [
    "char_to_num(['a','n','k','i','t'])"
   ]
  },
  {
   "cell_type": "code",
   "execution_count": 16,
   "id": "f15c9662",
   "metadata": {},
   "outputs": [
    {
     "data": {
      "text/plain": [
       "<tf.Tensor: shape=(5,), dtype=string, numpy=array([b'a', b'n', b'k', b'i', b't'], dtype=object)>"
      ]
     },
     "execution_count": 16,
     "metadata": {},
     "output_type": "execute_result"
    }
   ],
   "source": [
    "num_to_char([ 1, 14, 11,  9, 20])"
   ]
  },
  {
   "cell_type": "code",
   "execution_count": 17,
   "id": "2c2f0d36",
   "metadata": {},
   "outputs": [],
   "source": [
    "def load_alignments(path:str) -> List[str]: \n",
    "    with open(path, 'r') as f: \n",
    "        lines = f.readlines() \n",
    "    tokens = []\n",
    "    for line in lines:\n",
    "        line = line.split()\n",
    "        if line[2] != 'sil':    #ignore silence\n",
    "            tokens = [*tokens,' ',line[2]]\n",
    "    return char_to_num(tf.reshape(tf.strings.unicode_split(tokens, input_encoding='UTF-8'), (-1)))[1:]"
   ]
  },
  {
   "cell_type": "code",
   "execution_count": 18,
   "id": "b31db7f5",
   "metadata": {},
   "outputs": [],
   "source": [
    "def load_data(path: str): \n",
    "    path = bytes.decode(path.numpy())\n",
    "    file_name = path.split('\\\\')[-1].split('.')[0]\n",
    "    video_path = os.path.join('data','s1',f'{file_name}.mpg')\n",
    "    alignment_path = os.path.join('data','alignments','s1',f'{file_name}.align')\n",
    "    frames = load_video(video_path) \n",
    "    alignments = load_alignments(alignment_path)\n",
    "    \n",
    "    return frames, alignments"
   ]
  },
  {
   "cell_type": "code",
   "execution_count": 19,
   "id": "26323c5b",
   "metadata": {},
   "outputs": [],
   "source": [
    "test_path = '.\\\\data\\\\s1\\\\bbal6n.mpg'"
   ]
  },
  {
   "cell_type": "code",
   "execution_count": 20,
   "id": "61920e8f",
   "metadata": {},
   "outputs": [
    {
     "data": {
      "text/plain": [
       "'bbal6n'"
      ]
     },
     "execution_count": 20,
     "metadata": {},
     "output_type": "execute_result"
    }
   ],
   "source": [
    "tf.convert_to_tensor(test_path).numpy().decode('utf-8').split('\\\\')[-1].split('.')[0]"
   ]
  },
  {
   "cell_type": "code",
   "execution_count": 21,
   "id": "ea508a03",
   "metadata": {},
   "outputs": [],
   "source": [
    "frames, alignments = load_data(tf.convert_to_tensor(test_path))"
   ]
  },
  {
   "cell_type": "code",
   "execution_count": 24,
   "id": "3c7e3c9a",
   "metadata": {},
   "outputs": [
    {
     "data": {
      "text/plain": [
       "<matplotlib.image.AxesImage at 0x1c603016230>"
      ]
     },
     "execution_count": 24,
     "metadata": {},
     "output_type": "execute_result"
    },
    {
     "data": {
      "image/png": "[encoded data removed]",
      "text/plain": [
       "<Figure size 640x480 with 1 Axes>"
      ]
     },
     "metadata": {},
     "output_type": "display_data"
    }
   ],
   "source": [
    "plt.imshow(frames[70])"
   ]
  },
  {
   "cell_type": "code",
   "execution_count": 25,
   "id": "f3feeba0",
   "metadata": {},
   "outputs": [
    {
     "data": {
      "text/plain": [
       "<tf.Tensor: shape=(21,), dtype=int64, numpy=\n",
       "array([ 2,  9, 14, 39,  2, 12, 21,  5, 39,  1, 20, 39, 12, 39, 19,  9, 24,\n",
       "       39, 14, 15, 23], dtype=int64)>"
      ]
     },
     "execution_count": 25,
     "metadata": {},
     "output_type": "execute_result"
    }
   ],
   "source": [
    "alignments"
   ]
  },
  {
   "cell_type": "code",
   "execution_count": 26,
   "id": "06bba196",
   "metadata": {},
   "outputs": [
    {
     "data": {
      "text/plain": [
       "<tf.Tensor: shape=(), dtype=string, numpy=b'bin blue at l six now'>"
      ]
     },
     "execution_count": 26,
     "metadata": {},
     "output_type": "execute_result"
    }
   ],
   "source": [
    "tf.strings.reduce_join([bytes.decode(x) for x in num_to_char(alignments.numpy()).numpy()])"
   ]
  },
  {
   "cell_type": "code",
   "execution_count": 27,
   "id": "4b8e1081",
   "metadata": {},
   "outputs": [],
   "source": [
    "def mappable_function(path:str) ->List[str]:\n",
    "    result = tf.py_function(load_data, [path], (tf.float32, tf.int64))\n",
    "    return result"
   ]
  },
  {
   "cell_type": "markdown",
   "id": "47174a9d",
   "metadata": {},
   "source": [
    "# Data PipeLine"
   ]
  },
  {
   "cell_type": "code",
   "execution_count": 28,
   "id": "c606fb5c",
   "metadata": {},
   "outputs": [],
   "source": [
    "from matplotlib import pyplot as plt"
   ]
  },
  {
   "cell_type": "code",
   "execution_count": 29,
   "id": "83cdddb7",
   "metadata": {},
   "outputs": [],
   "source": [
    "data = tf.data.Dataset.list_files('./data/s1/*.mpg')\n",
    "data = data.shuffle(500, reshuffle_each_iteration=False)\n",
    "data = data.map(mappable_function)\n",
    "data = data.padded_batch(2, padded_shapes=([75,None,None,None],[40]))\n",
    "data = data.prefetch(tf.data.AUTOTUNE)\n",
    "# Added for split \n",
    "train = data.take(450)\n",
    "test = data.skip(450)"
   ]
  },
  {
   "cell_type": "code",
   "execution_count": 30,
   "id": "20265a93",
   "metadata": {},
   "outputs": [
    {
     "data": {
      "text/plain": [
       "50"
      ]
     },
     "execution_count": 30,
     "metadata": {},
     "output_type": "execute_result"
    }
   ],
   "source": [
    "len(test)"
   ]
  },
  {
   "cell_type": "code",
   "execution_count": 31,
   "id": "676655b4",
   "metadata": {},
   "outputs": [],
   "source": [
    "frames, alignments = data.as_numpy_iterator().next()"
   ]
  },
  {
   "cell_type": "code",
   "execution_count": 32,
   "id": "3dc225b9",
   "metadata": {},
   "outputs": [
    {
     "data": {
      "text/plain": [
       "2"
      ]
     },
     "execution_count": 32,
     "metadata": {},
     "output_type": "execute_result"
    }
   ],
   "source": [
    "len(frames)"
   ]
  },
  {
   "cell_type": "code",
   "execution_count": 33,
   "id": "ce1c5496",
   "metadata": {},
   "outputs": [],
   "source": [
    "test = data.as_numpy_iterator()"
   ]
  },
  {
   "cell_type": "code",
   "execution_count": 34,
   "id": "d3766387",
   "metadata": {},
   "outputs": [
    {
     "data": {
      "text/plain": [
       "array([[[[[1.4727489 ],\n",
       "          [1.4727489 ],\n",
       "          [1.5115054 ],\n",
       "          ...,\n",
       "          [0.03875655],\n",
       "          [0.        ],\n",
       "          [0.        ]],\n",
       "\n",
       "         [[1.4727489 ],\n",
       "          [1.4727489 ],\n",
       "          [1.5115054 ],\n",
       "          ...,\n",
       "          [0.03875655],\n",
       "          [0.        ],\n",
       "          [0.        ]],\n",
       "\n",
       "         [[1.3564792 ],\n",
       "          [1.3564792 ],\n",
       "          [1.3564792 ],\n",
       "          ...,\n",
       "          [0.03875655],\n",
       "          [0.03875655],\n",
       "          [0.03875655]],\n",
       "\n",
       "         ...,\n",
       "\n",
       "         [[1.0076703 ],\n",
       "          [1.0076703 ],\n",
       "          [1.0076703 ],\n",
       "          ...,\n",
       "          [9.65038   ],\n",
       "          [9.65038   ],\n",
       "          [9.65038   ]],\n",
       "\n",
       "         [[0.9301571 ],\n",
       "          [0.9301571 ],\n",
       "          [0.9301571 ],\n",
       "          ...,\n",
       "          [9.611624  ],\n",
       "          [9.611624  ],\n",
       "          [9.611624  ]],\n",
       "\n",
       "         [[0.9301571 ],\n",
       "          [0.9301571 ],\n",
       "          [0.9301571 ],\n",
       "          ...,\n",
       "          [9.611624  ],\n",
       "          [9.611624  ],\n",
       "          [9.611624  ]]],\n",
       "\n",
       "\n",
       "        [[[1.3952358 ],\n",
       "          [1.3952358 ],\n",
       "          [1.4727489 ],\n",
       "          ...,\n",
       "          [0.0775131 ],\n",
       "          [0.03875655],\n",
       "          [0.03875655]],\n",
       "\n",
       "         [[1.3952358 ],\n",
       "          [1.3952358 ],\n",
       "          [1.4727489 ],\n",
       "          ...,\n",
       "          [0.0775131 ],\n",
       "          [0.03875655],\n",
       "          [0.03875655]],\n",
       "\n",
       "         [[1.3952358 ],\n",
       "          [1.3952358 ],\n",
       "          [1.3952358 ],\n",
       "          ...,\n",
       "          [0.        ],\n",
       "          [0.        ],\n",
       "          [0.        ]],\n",
       "\n",
       "         ...,\n",
       "\n",
       "         [[1.0464268 ],\n",
       "          [1.0464268 ],\n",
       "          [1.0076703 ],\n",
       "          ...,\n",
       "          [9.611624  ],\n",
       "          [9.611624  ],\n",
       "          [9.611624  ]],\n",
       "\n",
       "         [[0.9689137 ],\n",
       "          [0.9689137 ],\n",
       "          [0.9301571 ],\n",
       "          ...,\n",
       "          [9.611624  ],\n",
       "          [9.611624  ],\n",
       "          [9.611624  ]],\n",
       "\n",
       "         [[0.9689137 ],\n",
       "          [0.9689137 ],\n",
       "          [0.9301571 ],\n",
       "          ...,\n",
       "          [9.611624  ],\n",
       "          [9.611624  ],\n",
       "          [9.611624  ]]],\n",
       "\n",
       "\n",
       "        [[[1.4339923 ],\n",
       "          [1.4339923 ],\n",
       "          [1.4339923 ],\n",
       "          ...,\n",
       "          [0.0775131 ],\n",
       "          [0.03875655],\n",
       "          [0.03875655]],\n",
       "\n",
       "         [[1.4339923 ],\n",
       "          [1.4339923 ],\n",
       "          [1.4339923 ],\n",
       "          ...,\n",
       "          [0.0775131 ],\n",
       "          [0.03875655],\n",
       "          [0.03875655]],\n",
       "\n",
       "         [[1.3952358 ],\n",
       "          [1.3952358 ],\n",
       "          [1.3952358 ],\n",
       "          ...,\n",
       "          [0.        ],\n",
       "          [0.        ],\n",
       "          [0.        ]],\n",
       "\n",
       "         ...,\n",
       "\n",
       "         [[1.0464268 ],\n",
       "          [1.0464268 ],\n",
       "          [1.0076703 ],\n",
       "          ...,\n",
       "          [9.65038   ],\n",
       "          [9.65038   ],\n",
       "          [9.65038   ]],\n",
       "\n",
       "         [[0.9689137 ],\n",
       "          [0.9689137 ],\n",
       "          [0.9301571 ],\n",
       "          ...,\n",
       "          [9.611624  ],\n",
       "          [9.611624  ],\n",
       "          [9.611624  ]],\n",
       "\n",
       "         [[0.9689137 ],\n",
       "          [0.9689137 ],\n",
       "          [0.9301571 ],\n",
       "          ...,\n",
       "          [9.611624  ],\n",
       "          [9.611624  ],\n",
       "          [9.611624  ]]],\n",
       "\n",
       "\n",
       "        ...,\n",
       "\n",
       "\n",
       "        [[[1.5115054 ],\n",
       "          [1.5115054 ],\n",
       "          [1.5890185 ],\n",
       "          ...,\n",
       "          [0.0775131 ],\n",
       "          [0.03875655],\n",
       "          [0.03875655]],\n",
       "\n",
       "         [[1.5115054 ],\n",
       "          [1.5115054 ],\n",
       "          [1.5890185 ],\n",
       "          ...,\n",
       "          [0.0775131 ],\n",
       "          [0.03875655],\n",
       "          [0.03875655]],\n",
       "\n",
       "         [[1.3952358 ],\n",
       "          [1.3952358 ],\n",
       "          [1.3952358 ],\n",
       "          ...,\n",
       "          [0.03875655],\n",
       "          [0.03875655],\n",
       "          [0.03875655]],\n",
       "\n",
       "         ...,\n",
       "\n",
       "         [[1.0076703 ],\n",
       "          [0.9689137 ],\n",
       "          [0.9689137 ],\n",
       "          ...,\n",
       "          [9.611624  ],\n",
       "          [9.611624  ],\n",
       "          [9.611624  ]],\n",
       "\n",
       "         [[1.0076703 ],\n",
       "          [0.9689137 ],\n",
       "          [0.9689137 ],\n",
       "          ...,\n",
       "          [9.611624  ],\n",
       "          [9.611624  ],\n",
       "          [9.611624  ]],\n",
       "\n",
       "         [[1.0076703 ],\n",
       "          [0.9689137 ],\n",
       "          [0.9689137 ],\n",
       "          ...,\n",
       "          [9.611624  ],\n",
       "          [9.611624  ],\n",
       "          [9.611624  ]]],\n",
       "\n",
       "\n",
       "        [[[1.4339923 ],\n",
       "          [1.5115054 ],\n",
       "          [1.5115054 ],\n",
       "          ...,\n",
       "          [0.0775131 ],\n",
       "          [0.03875655],\n",
       "          [0.03875655]],\n",
       "\n",
       "         [[1.4339923 ],\n",
       "          [1.4339923 ],\n",
       "          [1.5115054 ],\n",
       "          ...,\n",
       "          [0.0775131 ],\n",
       "          [0.03875655],\n",
       "          [0.03875655]],\n",
       "\n",
       "         [[1.4727489 ],\n",
       "          [1.4727489 ],\n",
       "          [1.4727489 ],\n",
       "          ...,\n",
       "          [0.0775131 ],\n",
       "          [0.0775131 ],\n",
       "          [0.0775131 ]],\n",
       "\n",
       "         ...,\n",
       "\n",
       "         [[1.0076703 ],\n",
       "          [0.9689137 ],\n",
       "          [0.9689137 ],\n",
       "          ...,\n",
       "          [9.611624  ],\n",
       "          [9.611624  ],\n",
       "          [9.65038   ]],\n",
       "\n",
       "         [[1.0076703 ],\n",
       "          [0.9689137 ],\n",
       "          [0.9689137 ],\n",
       "          ...,\n",
       "          [9.611624  ],\n",
       "          [9.611624  ],\n",
       "          [9.611624  ]],\n",
       "\n",
       "         [[1.0076703 ],\n",
       "          [0.9689137 ],\n",
       "          [0.9689137 ],\n",
       "          ...,\n",
       "          [9.611624  ],\n",
       "          [9.611624  ],\n",
       "          [9.611624  ]]],\n",
       "\n",
       "\n",
       "        [[[1.4727489 ],\n",
       "          [1.5115054 ],\n",
       "          [1.5115054 ],\n",
       "          ...,\n",
       "          [0.03875655],\n",
       "          [0.03875655],\n",
       "          [0.03875655]],\n",
       "\n",
       "         [[1.4727489 ],\n",
       "          [1.4727489 ],\n",
       "          [1.5115054 ],\n",
       "          ...,\n",
       "          [0.03875655],\n",
       "          [0.03875655],\n",
       "          [0.03875655]],\n",
       "\n",
       "         [[1.3952358 ],\n",
       "          [1.3952358 ],\n",
       "          [1.3952358 ],\n",
       "          ...,\n",
       "          [0.0775131 ],\n",
       "          [0.0775131 ],\n",
       "          [0.0775131 ]],\n",
       "\n",
       "         ...,\n",
       "\n",
       "         [[1.0076703 ],\n",
       "          [0.9689137 ],\n",
       "          [0.9689137 ],\n",
       "          ...,\n",
       "          [9.611624  ],\n",
       "          [9.611624  ],\n",
       "          [9.65038   ]],\n",
       "\n",
       "         [[1.0076703 ],\n",
       "          [0.9689137 ],\n",
       "          [0.9689137 ],\n",
       "          ...,\n",
       "          [9.611624  ],\n",
       "          [9.611624  ],\n",
       "          [9.611624  ]],\n",
       "\n",
       "         [[1.0076703 ],\n",
       "          [0.9689137 ],\n",
       "          [0.9689137 ],\n",
       "          ...,\n",
       "          [9.611624  ],\n",
       "          [9.611624  ],\n",
       "          [9.611624  ]]]],\n",
       "\n",
       "\n",
       "\n",
       "       [[[[1.3161775 ],\n",
       "          [1.4624194 ],\n",
       "          [1.133375  ],\n",
       "          ...,\n",
       "          [0.43872583],\n",
       "          [0.43872583],\n",
       "          [0.43872583]],\n",
       "\n",
       "         [[1.3161775 ],\n",
       "          [1.3892984 ],\n",
       "          [1.133375  ],\n",
       "          ...,\n",
       "          [0.43872583],\n",
       "          [0.43872583],\n",
       "          [0.43872583]],\n",
       "\n",
       "         [[1.4624194 ],\n",
       "          [1.4989799 ],\n",
       "          [1.3892984 ],\n",
       "          ...,\n",
       "          [0.32904437],\n",
       "          [0.36560485],\n",
       "          [0.36560485]],\n",
       "\n",
       "         ...,\n",
       "\n",
       "         [[1.0602541 ],\n",
       "          [1.0602541 ],\n",
       "          [1.0602541 ],\n",
       "          ...,\n",
       "          [0.07312097],\n",
       "          [0.07312097],\n",
       "          [0.03656049]],\n",
       "\n",
       "         [[1.0236936 ],\n",
       "          [1.0236936 ],\n",
       "          [1.0236936 ],\n",
       "          ...,\n",
       "          [0.07312097],\n",
       "          [0.07312097],\n",
       "          [0.07312097]],\n",
       "\n",
       "         [[1.0236936 ],\n",
       "          [1.0236936 ],\n",
       "          [1.0236936 ],\n",
       "          ...,\n",
       "          [0.07312097],\n",
       "          [0.03656049],\n",
       "          [0.03656049]]],\n",
       "\n",
       "\n",
       "        [[[1.3527379 ],\n",
       "          [1.4624194 ],\n",
       "          [1.206496  ],\n",
       "          ...,\n",
       "          [0.43872583],\n",
       "          [0.36560485],\n",
       "          [0.36560485]],\n",
       "\n",
       "         [[1.4624194 ],\n",
       "          [1.5355403 ],\n",
       "          [1.206496  ],\n",
       "          ...,\n",
       "          [0.43872583],\n",
       "          [0.36560485],\n",
       "          [0.36560485]],\n",
       "\n",
       "         [[1.4624194 ],\n",
       "          [1.5355403 ],\n",
       "          [1.3892984 ],\n",
       "          ...,\n",
       "          [0.36560485],\n",
       "          [0.32904437],\n",
       "          [0.32904437]],\n",
       "\n",
       "         ...,\n",
       "\n",
       "         [[1.0602541 ],\n",
       "          [1.0602541 ],\n",
       "          [1.0602541 ],\n",
       "          ...,\n",
       "          [0.        ],\n",
       "          [0.        ],\n",
       "          [9.286364  ]],\n",
       "\n",
       "         [[1.0236936 ],\n",
       "          [1.0236936 ],\n",
       "          [1.0236936 ],\n",
       "          ...,\n",
       "          [0.07312097],\n",
       "          [0.07312097],\n",
       "          [0.03656049]],\n",
       "\n",
       "         [[1.0236936 ],\n",
       "          [1.0236936 ],\n",
       "          [1.0236936 ],\n",
       "          ...,\n",
       "          [9.322924  ],\n",
       "          [9.286364  ],\n",
       "          [9.322924  ]]],\n",
       "\n",
       "\n",
       "        [[[1.3892984 ],\n",
       "          [1.3892984 ],\n",
       "          [1.206496  ],\n",
       "          ...,\n",
       "          [0.40216535],\n",
       "          [0.36560485],\n",
       "          [0.36560485]],\n",
       "\n",
       "         [[1.4624194 ],\n",
       "          [1.4989799 ],\n",
       "          [1.279617  ],\n",
       "          ...,\n",
       "          [0.40216535],\n",
       "          [0.36560485],\n",
       "          [0.36560485]],\n",
       "\n",
       "         [[1.5355403 ],\n",
       "          [1.4624194 ],\n",
       "          [1.3527379 ],\n",
       "          ...,\n",
       "          [0.36560485],\n",
       "          [0.32904437],\n",
       "          [0.32904437]],\n",
       "\n",
       "         ...,\n",
       "\n",
       "         [[1.0602541 ],\n",
       "          [1.0602541 ],\n",
       "          [1.0602541 ],\n",
       "          ...,\n",
       "          [0.03656049],\n",
       "          [0.        ],\n",
       "          [9.286364  ]],\n",
       "\n",
       "         [[1.0236936 ],\n",
       "          [1.0236936 ],\n",
       "          [1.0236936 ],\n",
       "          ...,\n",
       "          [0.10968146],\n",
       "          [0.07312097],\n",
       "          [0.03656049]],\n",
       "\n",
       "         [[1.0236936 ],\n",
       "          [1.0236936 ],\n",
       "          [1.0236936 ],\n",
       "          ...,\n",
       "          [0.03656049],\n",
       "          [9.286364  ],\n",
       "          [9.322924  ]]],\n",
       "\n",
       "\n",
       "        ...,\n",
       "\n",
       "\n",
       "        [[[1.4989799 ],\n",
       "          [1.206496  ],\n",
       "          [0.8043307 ],\n",
       "          ...,\n",
       "          [0.2924839 ],\n",
       "          [0.2559234 ],\n",
       "          [0.2559234 ]],\n",
       "\n",
       "         [[1.3892984 ],\n",
       "          [1.2430565 ],\n",
       "          [0.62152827],\n",
       "          ...,\n",
       "          [0.2924839 ],\n",
       "          [0.2559234 ],\n",
       "          [0.2559234 ]],\n",
       "\n",
       "         [[1.3527379 ],\n",
       "          [1.3527379 ],\n",
       "          [1.133375  ],\n",
       "          ...,\n",
       "          [0.32904437],\n",
       "          [0.32904437],\n",
       "          [0.2559234 ]],\n",
       "\n",
       "         ...,\n",
       "\n",
       "         [[1.0236936 ],\n",
       "          [1.0236936 ],\n",
       "          [1.0236936 ],\n",
       "          ...,\n",
       "          [0.03656049],\n",
       "          [0.10968146],\n",
       "          [0.10968146]],\n",
       "\n",
       "         [[1.0236936 ],\n",
       "          [1.0236936 ],\n",
       "          [1.0236936 ],\n",
       "          ...,\n",
       "          [0.07312097],\n",
       "          [0.07312097],\n",
       "          [0.03656049]],\n",
       "\n",
       "         [[1.0236936 ],\n",
       "          [1.0236936 ],\n",
       "          [1.0236936 ],\n",
       "          ...,\n",
       "          [0.03656049],\n",
       "          [9.322924  ],\n",
       "          [9.286364  ]]],\n",
       "\n",
       "\n",
       "        [[[1.5355403 ],\n",
       "          [1.3527379 ],\n",
       "          [0.8408912 ],\n",
       "          ...,\n",
       "          [0.2924839 ],\n",
       "          [0.2559234 ],\n",
       "          [0.2559234 ]],\n",
       "\n",
       "         [[1.3527379 ],\n",
       "          [1.4624194 ],\n",
       "          [0.91401213],\n",
       "          ...,\n",
       "          [0.2924839 ],\n",
       "          [0.2559234 ],\n",
       "          [0.2559234 ]],\n",
       "\n",
       "         [[1.425859  ],\n",
       "          [1.3892984 ],\n",
       "          [1.1699356 ],\n",
       "          ...,\n",
       "          [0.36560485],\n",
       "          [0.36560485],\n",
       "          [0.2924839 ]],\n",
       "\n",
       "         ...,\n",
       "\n",
       "         [[1.0602541 ],\n",
       "          [1.0602541 ],\n",
       "          [1.0602541 ],\n",
       "          ...,\n",
       "          [0.07312097],\n",
       "          [0.07312097],\n",
       "          [0.03656049]],\n",
       "\n",
       "         [[1.0236936 ],\n",
       "          [1.0236936 ],\n",
       "          [1.0236936 ],\n",
       "          ...,\n",
       "          [0.07312097],\n",
       "          [0.07312097],\n",
       "          [0.03656049]],\n",
       "\n",
       "         [[1.0236936 ],\n",
       "          [1.0236936 ],\n",
       "          [1.0236936 ],\n",
       "          ...,\n",
       "          [0.03656049],\n",
       "          [9.322924  ],\n",
       "          [9.286364  ]]],\n",
       "\n",
       "\n",
       "        [[[1.4989799 ],\n",
       "          [1.5355403 ],\n",
       "          [0.9505726 ],\n",
       "          ...,\n",
       "          [0.2924839 ],\n",
       "          [0.2559234 ],\n",
       "          [0.2559234 ]],\n",
       "\n",
       "         [[1.4989799 ],\n",
       "          [1.4989799 ],\n",
       "          [0.9505726 ],\n",
       "          ...,\n",
       "          [0.2924839 ],\n",
       "          [0.2559234 ],\n",
       "          [0.2559234 ]],\n",
       "\n",
       "         [[1.3892984 ],\n",
       "          [1.3892984 ],\n",
       "          [1.2430565 ],\n",
       "          ...,\n",
       "          [0.2924839 ],\n",
       "          [0.2924839 ],\n",
       "          [0.2924839 ]],\n",
       "\n",
       "         ...,\n",
       "\n",
       "         [[1.0602541 ],\n",
       "          [1.0602541 ],\n",
       "          [1.0602541 ],\n",
       "          ...,\n",
       "          [0.03656049],\n",
       "          [0.07312097],\n",
       "          [0.07312097]],\n",
       "\n",
       "         [[1.0602541 ],\n",
       "          [1.0236936 ],\n",
       "          [1.0236936 ],\n",
       "          ...,\n",
       "          [0.03656049],\n",
       "          [0.03656049],\n",
       "          [9.322924  ]],\n",
       "\n",
       "         [[1.0602541 ],\n",
       "          [1.0236936 ],\n",
       "          [1.0236936 ],\n",
       "          ...,\n",
       "          [0.03656049],\n",
       "          [0.07312097],\n",
       "          [0.03656049]]]]], dtype=float32)"
      ]
     },
     "execution_count": 34,
     "metadata": {},
     "output_type": "execute_result"
    }
   ],
   "source": [
    "val = test.next(); val[0]"
   ]
  },
  {
   "cell_type": "code",
   "execution_count": 35,
   "id": "ae964c86",
   "metadata": {},
   "outputs": [
    {
     "name": "stderr",
     "output_type": "stream",
     "text": [
      "Lossy conversion from float32 to uint8. Range [0.0, 9.882919311523438]. Convert image to uint8 prior to saving to suppress this warning.\n",
      "Lossy conversion from float32 to uint8. Range [0.0, 9.882919311523438]. Convert image to uint8 prior to saving to suppress this warning.\n",
      "Lossy conversion from float32 to uint8. Range [0.0, 9.882919311523438]. Convert image to uint8 prior to saving to suppress this warning.\n",
      "Lossy conversion from float32 to uint8. Range [0.0, 9.882919311523438]. Convert image to uint8 prior to saving to suppress this warning.\n",
      "Lossy conversion from float32 to uint8. Range [0.0, 9.882919311523438]. Convert image to uint8 prior to saving to suppress this warning.\n",
      "Lossy conversion from float32 to uint8. Range [0.0, 9.882919311523438]. Convert image to uint8 prior to saving to suppress this warning.\n",
      "Lossy conversion from float32 to uint8. Range [0.0, 9.882919311523438]. Convert image to uint8 prior to saving to suppress this warning.\n",
      "Lossy conversion from float32 to uint8. Range [0.0, 9.882919311523438]. Convert image to uint8 prior to saving to suppress this warning.\n",
      "Lossy conversion from float32 to uint8. Range [0.0, 9.882919311523438]. Convert image to uint8 prior to saving to suppress this warning.\n",
      "Lossy conversion from float32 to uint8. Range [0.0, 9.882919311523438]. Convert image to uint8 prior to saving to suppress this warning.\n",
      "Lossy conversion from float32 to uint8. Range [0.0, 9.882919311523438]. Convert image to uint8 prior to saving to suppress this warning.\n",
      "Lossy conversion from float32 to uint8. Range [0.0, 9.882919311523438]. Convert image to uint8 prior to saving to suppress this warning.\n",
      "Lossy conversion from float32 to uint8. Range [0.0, 9.882919311523438]. Convert image to uint8 prior to saving to suppress this warning.\n",
      "Lossy conversion from float32 to uint8. Range [0.0, 9.882919311523438]. Convert image to uint8 prior to saving to suppress this warning.\n",
      "Lossy conversion from float32 to uint8. Range [0.0, 9.882919311523438]. Convert image to uint8 prior to saving to suppress this warning.\n",
      "Lossy conversion from float32 to uint8. Range [0.0, 9.882919311523438]. Convert image to uint8 prior to saving to suppress this warning.\n",
      "Lossy conversion from float32 to uint8. Range [0.0, 9.882919311523438]. Convert image to uint8 prior to saving to suppress this warning.\n",
      "Lossy conversion from float32 to uint8. Range [0.0, 9.882919311523438]. Convert image to uint8 prior to saving to suppress this warning.\n",
      "Lossy conversion from float32 to uint8. Range [0.0, 9.882919311523438]. Convert image to uint8 prior to saving to suppress this warning.\n",
      "Lossy conversion from float32 to uint8. Range [0.0, 9.882919311523438]. Convert image to uint8 prior to saving to suppress this warning.\n",
      "Lossy conversion from float32 to uint8. Range [0.0, 9.882919311523438]. Convert image to uint8 prior to saving to suppress this warning.\n",
      "Lossy conversion from float32 to uint8. Range [0.0, 9.882919311523438]. Convert image to uint8 prior to saving to suppress this warning.\n",
      "Lossy conversion from float32 to uint8. Range [0.0, 9.882919311523438]. Convert image to uint8 prior to saving to suppress this warning.\n",
      "Lossy conversion from float32 to uint8. Range [0.0, 9.882919311523438]. Convert image to uint8 prior to saving to suppress this warning.\n",
      "Lossy conversion from float32 to uint8. Range [0.0, 9.882919311523438]. Convert image to uint8 prior to saving to suppress this warning.\n",
      "Lossy conversion from float32 to uint8. Range [0.0, 9.882919311523438]. Convert image to uint8 prior to saving to suppress this warning.\n",
      "Lossy conversion from float32 to uint8. Range [0.0, 9.882919311523438]. Convert image to uint8 prior to saving to suppress this warning.\n",
      "Lossy conversion from float32 to uint8. Range [0.0, 9.882919311523438]. Convert image to uint8 prior to saving to suppress this warning.\n",
      "Lossy conversion from float32 to uint8. Range [0.0, 9.882919311523438]. Convert image to uint8 prior to saving to suppress this warning.\n",
      "Lossy conversion from float32 to uint8. Range [0.0, 9.882919311523438]. Convert image to uint8 prior to saving to suppress this warning.\n",
      "Lossy conversion from float32 to uint8. Range [0.0, 9.882919311523438]. Convert image to uint8 prior to saving to suppress this warning.\n",
      "Lossy conversion from float32 to uint8. Range [0.0, 9.882919311523438]. Convert image to uint8 prior to saving to suppress this warning.\n",
      "Lossy conversion from float32 to uint8. Range [0.0, 9.882919311523438]. Convert image to uint8 prior to saving to suppress this warning.\n",
      "Lossy conversion from float32 to uint8. Range [0.0, 9.882919311523438]. Convert image to uint8 prior to saving to suppress this warning.\n",
      "Lossy conversion from float32 to uint8. Range [0.0, 9.882919311523438]. Convert image to uint8 prior to saving to suppress this warning.\n",
      "Lossy conversion from float32 to uint8. Range [0.0, 9.882919311523438]. Convert image to uint8 prior to saving to suppress this warning.\n",
      "Lossy conversion from float32 to uint8. Range [0.0, 9.882919311523438]. Convert image to uint8 prior to saving to suppress this warning.\n",
      "Lossy conversion from float32 to uint8. Range [0.0, 9.882919311523438]. Convert image to uint8 prior to saving to suppress this warning.\n",
      "Lossy conversion from float32 to uint8. Range [0.0, 9.882919311523438]. Convert image to uint8 prior to saving to suppress this warning.\n",
      "Lossy conversion from float32 to uint8. Range [0.0, 9.882919311523438]. Convert image to uint8 prior to saving to suppress this warning.\n",
      "Lossy conversion from float32 to uint8. Range [0.0, 9.882919311523438]. Convert image to uint8 prior to saving to suppress this warning.\n",
      "Lossy conversion from float32 to uint8. Range [0.0, 9.882919311523438]. Convert image to uint8 prior to saving to suppress this warning.\n",
      "Lossy conversion from float32 to uint8. Range [0.0, 9.882919311523438]. Convert image to uint8 prior to saving to suppress this warning.\n",
      "Lossy conversion from float32 to uint8. Range [0.0, 9.882919311523438]. Convert image to uint8 prior to saving to suppress this warning.\n",
      "Lossy conversion from float32 to uint8. Range [0.0, 9.882919311523438]. Convert image to uint8 prior to saving to suppress this warning.\n",
      "Lossy conversion from float32 to uint8. Range [0.0, 9.882919311523438]. Convert image to uint8 prior to saving to suppress this warning.\n",
      "Lossy conversion from float32 to uint8. Range [0.0, 9.882919311523438]. Convert image to uint8 prior to saving to suppress this warning.\n",
      "Lossy conversion from float32 to uint8. Range [0.0, 9.882919311523438]. Convert image to uint8 prior to saving to suppress this warning.\n",
      "Lossy conversion from float32 to uint8. Range [0.0, 9.882919311523438]. Convert image to uint8 prior to saving to suppress this warning.\n",
      "Lossy conversion from float32 to uint8. Range [0.0, 9.882919311523438]. Convert image to uint8 prior to saving to suppress this warning.\n",
      "Lossy conversion from float32 to uint8. Range [0.0, 9.882919311523438]. Convert image to uint8 prior to saving to suppress this warning.\n",
      "Lossy conversion from float32 to uint8. Range [0.0, 9.882919311523438]. Convert image to uint8 prior to saving to suppress this warning.\n",
      "Lossy conversion from float32 to uint8. Range [0.0, 9.882919311523438]. Convert image to uint8 prior to saving to suppress this warning.\n",
      "Lossy conversion from float32 to uint8. Range [0.0, 9.882919311523438]. Convert image to uint8 prior to saving to suppress this warning.\n",
      "Lossy conversion from float32 to uint8. Range [0.0, 9.882919311523438]. Convert image to uint8 prior to saving to suppress this warning.\n",
      "Lossy conversion from float32 to uint8. Range [0.0, 9.882919311523438]. Convert image to uint8 prior to saving to suppress this warning.\n",
      "Lossy conversion from float32 to uint8. Range [0.0, 9.882919311523438]. Convert image to uint8 prior to saving to suppress this warning.\n",
      "Lossy conversion from float32 to uint8. Range [0.0, 9.882919311523438]. Convert image to uint8 prior to saving to suppress this warning.\n",
      "Lossy conversion from float32 to uint8. Range [0.0, 9.882919311523438]. Convert image to uint8 prior to saving to suppress this warning.\n",
      "Lossy conversion from float32 to uint8. Range [0.0, 9.882919311523438]. Convert image to uint8 prior to saving to suppress this warning.\n"
     ]
    },
    {
     "name": "stderr",
     "output_type": "stream",
     "text": [
      "Lossy conversion from float32 to uint8. Range [0.0, 9.882919311523438]. Convert image to uint8 prior to saving to suppress this warning.\n",
      "Lossy conversion from float32 to uint8. Range [0.0, 9.882919311523438]. Convert image to uint8 prior to saving to suppress this warning.\n",
      "Lossy conversion from float32 to uint8. Range [0.0, 9.882919311523438]. Convert image to uint8 prior to saving to suppress this warning.\n",
      "Lossy conversion from float32 to uint8. Range [0.0, 9.882919311523438]. Convert image to uint8 prior to saving to suppress this warning.\n",
      "Lossy conversion from float32 to uint8. Range [0.0, 9.882919311523438]. Convert image to uint8 prior to saving to suppress this warning.\n",
      "Lossy conversion from float32 to uint8. Range [0.0, 9.882919311523438]. Convert image to uint8 prior to saving to suppress this warning.\n",
      "Lossy conversion from float32 to uint8. Range [0.0, 9.882919311523438]. Convert image to uint8 prior to saving to suppress this warning.\n",
      "Lossy conversion from float32 to uint8. Range [0.0, 9.882919311523438]. Convert image to uint8 prior to saving to suppress this warning.\n",
      "Lossy conversion from float32 to uint8. Range [0.0, 9.882919311523438]. Convert image to uint8 prior to saving to suppress this warning.\n",
      "Lossy conversion from float32 to uint8. Range [0.0, 9.882919311523438]. Convert image to uint8 prior to saving to suppress this warning.\n",
      "Lossy conversion from float32 to uint8. Range [0.0, 9.882919311523438]. Convert image to uint8 prior to saving to suppress this warning.\n",
      "Lossy conversion from float32 to uint8. Range [0.0, 9.882919311523438]. Convert image to uint8 prior to saving to suppress this warning.\n",
      "Lossy conversion from float32 to uint8. Range [0.0, 9.882919311523438]. Convert image to uint8 prior to saving to suppress this warning.\n",
      "Lossy conversion from float32 to uint8. Range [0.0, 9.882919311523438]. Convert image to uint8 prior to saving to suppress this warning.\n",
      "Lossy conversion from float32 to uint8. Range [0.0, 9.882919311523438]. Convert image to uint8 prior to saving to suppress this warning.\n"
     ]
    }
   ],
   "source": [
    "imageio.mimsave('./animation.gif', val[0][0], fps=10)"
   ]
  },
  {
   "cell_type": "code",
   "execution_count": 36,
   "id": "3ee975c9",
   "metadata": {},
   "outputs": [
    {
     "data": {
      "text/plain": [
       "<matplotlib.image.AxesImage at 0x1c602f299c0>"
      ]
     },
     "execution_count": 36,
     "metadata": {},
     "output_type": "execute_result"
    },
    {
     "data": {
      "image/png": "[encoded data removed]",
      "text/plain": [
       "<Figure size 640x480 with 1 Axes>"
      ]
     },
     "metadata": {},
     "output_type": "display_data"
    }
   ],
   "source": [
    "# 0:videos, 0: 1st video out of the batch,  0: return the first frame in the video \n",
    "plt.imshow(val[0][0][35])"
   ]
  },
  {
   "cell_type": "code",
   "execution_count": 37,
   "id": "8d9e83c6",
   "metadata": {},
   "outputs": [
    {
     "data": {
      "text/plain": [
       "<tf.Tensor: shape=(), dtype=string, numpy=b'place red with d seven again'>"
      ]
     },
     "execution_count": 37,
     "metadata": {},
     "output_type": "execute_result"
    }
   ],
   "source": [
    "tf.strings.reduce_join([num_to_char(word) for word in val[1][0]])"
   ]
  },
  {
   "cell_type": "markdown",
   "id": "64e8c873",
   "metadata": {},
   "source": [
    "# DNN"
   ]
  },
  {
   "cell_type": "code",
   "execution_count": 38,
   "id": "6d04b07f",
   "metadata": {},
   "outputs": [],
   "source": [
    "from tensorflow.keras.models import Sequential \n",
    "from tensorflow.keras.layers import Conv3D, LSTM, Dense, Dropout, Bidirectional, MaxPool3D, Activation, Reshape, SpatialDropout3D, BatchNormalization, TimeDistributed, Flatten\n",
    "from tensorflow.keras.optimizers import Adam\n",
    "from tensorflow.keras.callbacks import ModelCheckpoint, LearningRateScheduler"
   ]
  },
  {
   "cell_type": "code",
   "execution_count": 39,
   "id": "6d77b5cd",
   "metadata": {},
   "outputs": [
    {
     "data": {
      "text/plain": [
       "(75, 46, 140, 1)"
      ]
     },
     "execution_count": 39,
     "metadata": {},
     "output_type": "execute_result"
    }
   ],
   "source": [
    "data.as_numpy_iterator().next()[0][0].shape"
   ]
  },
  {
   "cell_type": "code",
   "execution_count": 40,
   "id": "4dfc8ab7",
   "metadata": {},
   "outputs": [
    {
     "data": {
      "text/plain": [
       "(75, 46, 140, 1)"
      ]
     },
     "execution_count": 40,
     "metadata": {},
     "output_type": "execute_result"
    }
   ],
   "source": [
    "data.as_numpy_iterator().next()[0][0].shape"
   ]
  },
  {
   "cell_type": "code",
   "execution_count": 41,
   "id": "775d7711",
   "metadata": {},
   "outputs": [],
   "source": [
    "model = Sequential()\n",
    "model.add(Conv3D(128, 3, input_shape=(75,46,140,1), padding='same'))\n",
    "model.add(Activation('relu'))\n",
    "model.add(MaxPool3D((1,2,2)))\n",
    "\n",
    "model.add(Conv3D(256, 3, padding='same'))\n",
    "model.add(Activation('relu'))\n",
    "model.add(MaxPool3D((1,2,2)))\n",
    "\n",
    "model.add(Conv3D(75, 3, padding='same'))\n",
    "model.add(Activation('relu'))\n",
    "model.add(MaxPool3D((1,2,2)))\n",
    "\n",
    "model.add(TimeDistributed(Flatten()))\n",
    "\n",
    "model.add(Bidirectional(LSTM(128, kernel_initializer='Orthogonal', return_sequences=True)))\n",
    "model.add(Dropout(.5))\n",
    "\n",
    "model.add(Bidirectional(LSTM(128, kernel_initializer='Orthogonal', return_sequences=True)))\n",
    "model.add(Dropout(.5))\n",
    "\n",
    "model.add(Dense(char_to_num.vocabulary_size()+1, kernel_initializer='he_normal', activation='softmax'))"
   ]
  },
  {
   "cell_type": "code",
   "execution_count": 42,
   "id": "ceae27e3",
   "metadata": {},
   "outputs": [
    {
     "name": "stdout",
     "output_type": "stream",
     "text": [
      "Model: \"sequential\"\n",
      "_________________________________________________________________\n",
      " Layer (type)                Output Shape              Param #   \n",
      "=================================================================\n",
      " conv3d (Conv3D)             (None, 75, 46, 140, 128)  3584      \n",
      "                                                                 \n",
      " activation (Activation)     (None, 75, 46, 140, 128)  0         \n",
      "                                                                 \n",
      " max_pooling3d (MaxPooling3D  (None, 75, 23, 70, 128)  0         \n",
      " )                                                               \n",
      "                                                                 \n",
      " conv3d_1 (Conv3D)           (None, 75, 23, 70, 256)   884992    \n",
      "                                                                 \n",
      " activation_1 (Activation)   (None, 75, 23, 70, 256)   0         \n",
      "                                                                 \n",
      " max_pooling3d_1 (MaxPooling  (None, 75, 11, 35, 256)  0         \n",
      " 3D)                                                             \n",
      "                                                                 \n",
      " conv3d_2 (Conv3D)           (None, 75, 11, 35, 75)    518475    \n",
      "                                                                 \n",
      " activation_2 (Activation)   (None, 75, 11, 35, 75)    0         \n",
      "                                                                 \n",
      " max_pooling3d_2 (MaxPooling  (None, 75, 5, 17, 75)    0         \n",
      " 3D)                                                             \n",
      "                                                                 \n",
      " time_distributed (TimeDistr  (None, 75, 6375)         0         \n",
      " ibuted)                                                         \n",
      "                                                                 \n",
      " bidirectional (Bidirectiona  (None, 75, 256)          6660096   \n",
      " l)                                                              \n",
      "                                                                 \n",
      " dropout (Dropout)           (None, 75, 256)           0         \n",
      "                                                                 \n",
      " bidirectional_1 (Bidirectio  (None, 75, 256)          394240    \n",
      " nal)                                                            \n",
      "                                                                 \n",
      " dropout_1 (Dropout)         (None, 75, 256)           0         \n",
      "                                                                 \n",
      " dense (Dense)               (None, 75, 41)            10537     \n",
      "                                                                 \n",
      "=================================================================\n",
      "Total params: 8,471,924\n",
      "Trainable params: 8,471,924\n",
      "Non-trainable params: 0\n",
      "_________________________________________________________________\n"
     ]
    }
   ],
   "source": [
    "model.summary()"
   ]
  },
  {
   "cell_type": "code",
   "execution_count": 43,
   "id": "cc90623e",
   "metadata": {},
   "outputs": [
    {
     "data": {
      "text/plain": [
       "6375"
      ]
     },
     "execution_count": 43,
     "metadata": {},
     "output_type": "execute_result"
    }
   ],
   "source": [
    "5*17*75"
   ]
  },
  {
   "cell_type": "code",
   "execution_count": 44,
   "id": "0a613a77",
   "metadata": {},
   "outputs": [
    {
     "name": "stdout",
     "output_type": "stream",
     "text": [
      "1/1 [==============================] - 6s 6s/step\n"
     ]
    }
   ],
   "source": [
    "yhat = model.predict(val[0])"
   ]
  },
  {
   "cell_type": "code",
   "execution_count": 45,
   "id": "7182319a",
   "metadata": {},
   "outputs": [
    {
     "data": {
      "text/plain": [
       "<tf.Tensor: shape=(), dtype=string, numpy=b'ppnnnsssxxxxxxwwwwxxxxxxxxxxxxxxxxxxxxxxxxxxxxxxxxxxxxxxxxxxxxxxxxxxxxxwwww'>"
      ]
     },
     "execution_count": 45,
     "metadata": {},
     "output_type": "execute_result"
    }
   ],
   "source": [
    "tf.strings.reduce_join([num_to_char(x) for x in tf.argmax(yhat[0],axis=1)])"
   ]
  },
  {
   "cell_type": "code",
   "execution_count": 46,
   "id": "255bcd6a",
   "metadata": {},
   "outputs": [
    {
     "data": {
      "text/plain": [
       "(None, 75, 46, 140, 1)"
      ]
     },
     "execution_count": 46,
     "metadata": {},
     "output_type": "execute_result"
    }
   ],
   "source": [
    "model.input_shape"
   ]
  },
  {
   "cell_type": "code",
   "execution_count": 47,
   "id": "eff034ac",
   "metadata": {},
   "outputs": [
    {
     "data": {
      "text/plain": [
       "(None, 75, 41)"
      ]
     },
     "execution_count": 47,
     "metadata": {},
     "output_type": "execute_result"
    }
   ],
   "source": [
    "model.output_shape"
   ]
  },
  {
   "cell_type": "markdown",
   "id": "63faeb8b",
   "metadata": {},
   "source": [
    "# Training"
   ]
  },
  {
   "cell_type": "code",
   "execution_count": 48,
   "id": "223e9e74",
   "metadata": {},
   "outputs": [],
   "source": [
    "def scheduler(epoch, lr):\n",
    "    if epoch < 30:\n",
    "        return lr\n",
    "    else:\n",
    "        return lr * tf.math.exp(-0.1)"
   ]
  },
  {
   "cell_type": "code",
   "execution_count": 49,
   "id": "f8b06e28",
   "metadata": {},
   "outputs": [],
   "source": [
    "def CTCLoss(y_true, y_pred):\n",
    "    batch_len = tf.cast(tf.shape(y_true)[0], dtype=\"int64\")\n",
    "    input_length = tf.cast(tf.shape(y_pred)[1], dtype=\"int64\")\n",
    "    label_length = tf.cast(tf.shape(y_true)[1], dtype=\"int64\")\n",
    "\n",
    "    input_length = input_length * tf.ones(shape=(batch_len, 1), dtype=\"int64\")\n",
    "    label_length = label_length * tf.ones(shape=(batch_len, 1), dtype=\"int64\")\n",
    "\n",
    "    loss = tf.keras.backend.ctc_batch_cost(y_true, y_pred, input_length, label_length)\n",
    "    return loss"
   ]
  },
  {
   "cell_type": "code",
   "execution_count": 50,
   "id": "b253b6d9",
   "metadata": {},
   "outputs": [],
   "source": [
    "class ProduceExample(tf.keras.callbacks.Callback): \n",
    "    def __init__(self, dataset) -> None: \n",
    "        self.dataset = dataset.as_numpy_iterator()\n",
    "    \n",
    "    def on_epoch_end(self, epoch, logs=None) -> None:\n",
    "        data = self.dataset.next()\n",
    "        yhat = self.model.predict(data[0])\n",
    "        decoded = tf.keras.backend.ctc_decode(yhat, [75,75], greedy=False)[0][0].numpy()\n",
    "        for x in range(len(yhat)):           \n",
    "            print('Original:', tf.strings.reduce_join(num_to_char(data[1][x])).numpy().decode('utf-8'))\n",
    "            print('Prediction:', tf.strings.reduce_join(num_to_char(decoded[x])).numpy().decode('utf-8'))\n",
    "            print('~'*100)"
   ]
  },
  {
   "cell_type": "code",
   "execution_count": 51,
   "id": "1b741d63",
   "metadata": {},
   "outputs": [],
   "source": [
    "model.compile(optimizer=Adam(learning_rate=0.0001), loss=CTCLoss)"
   ]
  },
  {
   "cell_type": "code",
   "execution_count": 52,
   "id": "326f1ecd",
   "metadata": {},
   "outputs": [],
   "source": [
    "checkpoint_callback = ModelCheckpoint(os.path.join('models','checkpoint'), monitor='loss', save_weights_only=True) "
   ]
  },
  {
   "cell_type": "code",
   "execution_count": 53,
   "id": "8d995954",
   "metadata": {},
   "outputs": [],
   "source": [
    "schedule_callback = LearningRateScheduler(scheduler)"
   ]
  },
  {
   "cell_type": "code",
   "execution_count": 54,
   "id": "971cfcd7",
   "metadata": {},
   "outputs": [
    {
     "ename": "AttributeError",
     "evalue": "'_NumpyIterator' object has no attribute 'as_numpy_iterator'",
     "output_type": "error",
     "traceback": [
      "\u001b[1;31m---------------------------------------------------------------------------\u001b[0m",
      "\u001b[1;31mAttributeError\u001b[0m                            Traceback (most recent call last)",
      "Cell \u001b[1;32mIn[54], line 1\u001b[0m\n\u001b[1;32m----> 1\u001b[0m example_callback \u001b[38;5;241m=\u001b[39m \u001b[43mProduceExample\u001b[49m\u001b[43m(\u001b[49m\u001b[43mtest\u001b[49m\u001b[43m)\u001b[49m\n",
      "Cell \u001b[1;32mIn[50], line 3\u001b[0m, in \u001b[0;36mProduceExample.__init__\u001b[1;34m(self, dataset)\u001b[0m\n\u001b[0;32m      2\u001b[0m \u001b[38;5;28;01mdef\u001b[39;00m \u001b[38;5;21m__init__\u001b[39m(\u001b[38;5;28mself\u001b[39m, dataset) \u001b[38;5;241m-\u001b[39m\u001b[38;5;241m>\u001b[39m \u001b[38;5;28;01mNone\u001b[39;00m: \n\u001b[1;32m----> 3\u001b[0m     \u001b[38;5;28mself\u001b[39m\u001b[38;5;241m.\u001b[39mdataset \u001b[38;5;241m=\u001b[39m \u001b[43mdataset\u001b[49m\u001b[38;5;241;43m.\u001b[39;49m\u001b[43mas_numpy_iterator\u001b[49m()\n",
      "\u001b[1;31mAttributeError\u001b[0m: '_NumpyIterator' object has no attribute 'as_numpy_iterator'"
     ]
    }
   ],
   "source": [
    "# example_callback = ProduceExample(test)"
   ]
  },
  {
   "cell_type": "code",
   "execution_count": null,
   "id": "11b37d53",
   "metadata": {},
   "outputs": [
    {
     "name": "stdout",
     "output_type": "stream",
     "text": [
      "Epoch 1/100\n",
      " 80/450 [====>.........................] - ETA: 3:46:29 - loss: 111.5349"
     ]
    }
   ],
   "source": [
    "model.fit(train, validation_data=test, epochs=100, callbacks=[checkpoint_callback, schedule_callback])"
   ]
  },
  {
   "cell_type": "code",
   "execution_count": null,
   "id": "5516d886",
   "metadata": {},
   "outputs": [],
   "source": []
  },
  {
   "cell_type": "code",
   "execution_count": null,
   "id": "73256907",
   "metadata": {},
   "outputs": [],
   "source": []
  }
 ],
 "metadata": {
  "kernelspec": {
   "display_name": "Python 3 (ipykernel)",
   "language": "python",
   "name": "python3"
  },
  "language_info": {
   "codemirror_mode": {
    "name": "ipython",
    "version": 3
   },
   "file_extension": ".py",
   "mimetype": "text/x-python",
   "name": "python",
   "nbconvert_exporter": "python",
   "pygments_lexer": "ipython3",
   "version": "3.10.8"
  }
 },
 "nbformat": 4,
 "nbformat_minor": 5
}
